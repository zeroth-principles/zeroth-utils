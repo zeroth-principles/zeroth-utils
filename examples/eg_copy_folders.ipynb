{
 "cells": [
  {
   "cell_type": "code",
   "execution_count": 1,
   "metadata": {},
   "outputs": [],
   "source": [
    "import os\n",
    "import shutil\n",
    "from typing import List\n"
   ]
  },
  {
   "cell_type": "code",
   "execution_count": 8,
   "metadata": {},
   "outputs": [],
   "source": [
    "def copy_subfolders(source_dir: str, target_dir: str, sub_sub_folder_names: List[str], num_sub_folders_to_copy: int):\n",
    "    if not os.path.exists(source_dir):\n",
    "        raise FileNotFoundError(f\"{source_dir} does not exist.\")\n",
    "    if not os.path.exists(target_dir):\n",
    "        os.makedirs(target_dir)\n",
    "        \n",
    "    sub_folders = [f.path for f in os.scandir(source_dir) if f.is_dir()]\n",
    "    \n",
    "    if len(sub_folders) == 0:\n",
    "        raise ValueError(\"No sub-folders available to copy.\")\n",
    "    \n",
    "    copied_count = 0\n",
    "    for sub_folder in sub_folders:\n",
    "        if copied_count >= num_sub_folders_to_copy:\n",
    "            break\n",
    "        \n",
    "        copied = False\n",
    "        for sub_sub_folder_name in sub_sub_folder_names:\n",
    "            source_path = os.path.join(sub_folder, sub_sub_folder_name)\n",
    "            if not os.path.exists(source_path):\n",
    "                print(f\"Skipping {source_path} as it does not exist.\")\n",
    "                continue\n",
    "                \n",
    "            target_sub_folder = os.path.basename(sub_folder)\n",
    "            target_path = os.path.join(target_dir, target_sub_folder, sub_sub_folder_name)\n",
    "            if os.path.exists(target_path):\n",
    "                print(f\"Skipping {target_path} as it already exists.\")\n",
    "            else:\n",
    "                shutil.copytree(source_path, target_path)\n",
    "                print(f\"Copied {source_path} to {target_path}\")\n",
    "                copied = True\n",
    "\n",
    "        if copied:\n",
    "            copied_count += 1 # Increment the copied_count if at least one sub_sub_folder was copied\n",
    "        "
   ]
  },
  {
   "cell_type": "code",
   "execution_count": 9,
   "metadata": {},
   "outputs": [
    {
     "name": "stdout",
     "output_type": "stream",
     "text": [
      "Skipping C:\\Users\\raman\\OneDrive\\Desktop\\Testing\\Target\\01_Sub1\\docs as it already exists.\n",
      "Skipping C:\\Users\\raman\\OneDrive\\Desktop\\Testing\\Target\\01_Sub1\\results as it already exists.\n",
      "Skipping C:\\Users\\raman\\OneDrive\\Desktop\\Testing\\Target\\02_Sub2\\docs as it already exists.\n",
      "Copied C:\\Users\\raman\\OneDrive\\Desktop\\Testing\\Source\\02_Sub2\\results to C:\\Users\\raman\\OneDrive\\Desktop\\Testing\\Target\\02_Sub2\\results\n"
     ]
    }
   ],
   "source": [
    "# replace these variables with actual input\n",
    "source_dir = r'C:\\Users\\raman\\OneDrive\\Desktop\\Testing\\Source'\n",
    "target_dir = r'C:\\Users\\raman\\OneDrive\\Desktop\\Testing\\Target'\n",
    "sub_sub_folder_names = ['docs', 'results']\n",
    "num_sub_folders_to_copy = 1  # replace with the number of sub-folders you want to copy\n",
    "\n",
    "copy_subfolders(source_dir, target_dir, sub_sub_folder_names, num_sub_folders_to_copy)\n"
   ]
  }
 ],
 "metadata": {
  "kernelspec": {
   "display_name": "base",
   "language": "python",
   "name": "python3"
  },
  "language_info": {
   "codemirror_mode": {
    "name": "ipython",
    "version": 3
   },
   "file_extension": ".py",
   "mimetype": "text/x-python",
   "name": "python",
   "nbconvert_exporter": "python",
   "pygments_lexer": "ipython3",
   "version": "3.10.9"
  },
  "orig_nbformat": 4
 },
 "nbformat": 4,
 "nbformat_minor": 2
}
