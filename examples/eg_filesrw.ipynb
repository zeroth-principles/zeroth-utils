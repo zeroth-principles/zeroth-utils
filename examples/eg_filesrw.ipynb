{
 "cells": [
  {
   "cell_type": "code",
   "execution_count": 1,
   "metadata": {},
   "outputs": [
    {
     "name": "stdout",
     "output_type": "stream",
     "text": [
      "C:\\Users\\raman\\OneDrive\\Zeroth\\Workspace\n"
     ]
    }
   ],
   "source": [
    "from functools import partial\n",
    "import numpy as np\n",
    "from datetime import datetime\n",
    "import logging\n",
    "\n",
    "from zputils.dataframes.subsetting import *\n",
    "from zputils.dataframes.simulated import SimulatedDataFrame\n",
    "from zputils.filesrw.xls import XLS_g_DoDf\n",
    "\n",
    "logging.basicConfig(level=logging.DEBUG)\n",
    "workspace = r'C:\\Users\\raman\\OneDrive\\Zeroth\\Workspace'\n",
    "\n",
    "print(workspace)\n"
   ]
  },
  {
   "cell_type": "code",
   "execution_count": 2,
   "metadata": {},
   "outputs": [
    {
     "name": "stderr",
     "output_type": "stream",
     "text": [
      "INFO:root:args: ({'freq': 'B'},) ; kwds: {}\n",
      "INFO:root:Multiton checking registry for key: (<class 'zputils.dataframes.simulated.SimulatedDataFrame'>, '{\"freq\": \"B\"}')\n",
      "INFO:root:Multiton No Instance of <class 'zputils.dataframes.simulated.SimulatedDataFrame'> {\"freq\": \"B\"}\n",
      "INFO:root:Multiton Registering Instance of <class 'zputils.dataframes.simulated.SimulatedDataFrame'> {\"freq\": \"B\"}\n",
      "INFO:root:RUN SimulatedDataFrame {'freq': 'B'}\n",
      "INFO:root:RUN INITIAL: [{'Type': ['A', 'B', 'C'], 'ID': [1, 2]}] 2019-01-12 00:00:00 - 2019-01-31 00:00:00\n",
      "INFO:root:EXEC INITIAL: [{'Type': ['A', 'B', 'C'], 'ID': [1, 2]}] 2019-01-12 00:00:00 - 2019-01-31 00:00:00\n",
      "INFO:root:DONE SimulatedDataFrame {'freq': 'B'}\n"
     ]
    },
    {
     "name": "stdout",
     "output_type": "stream",
     "text": [
      "Type               A                   B                   C          \n",
      "ID                 1         2         1         2         1         2\n",
      "2019-01-14 -0.473549 -0.874544 -1.533791  0.570182  2.136421 -0.305721\n",
      "2019-01-15 -0.941923 -1.999236  2.311031  0.648239  0.096146 -0.564764\n",
      "2019-01-16 -0.696982  1.082176  0.997917 -0.276392 -1.290248 -0.430004\n",
      "2019-01-17  0.809790  0.635845  0.484444  0.159329  1.026526 -0.871294\n",
      "2019-01-18 -0.235093 -0.853388  0.978546 -0.677714  0.051710 -0.608034\n",
      "2019-01-21  0.025585 -0.453040 -0.967316  0.091121  0.700758 -0.094026\n",
      "2019-01-22 -0.191763  1.033193 -0.316498  0.526408 -0.657300 -0.640115\n",
      "2019-01-23  1.070298  0.192308  0.621710  0.017519 -1.226812  1.948532\n",
      "2019-01-24  0.368505  1.784185 -0.445116  0.972367  1.398522 -0.537970\n",
      "2019-01-25  0.087944  2.155909  1.305111  0.800486 -0.345596 -1.459081\n",
      "2019-01-28  0.153021 -0.527636  0.428364 -1.428272 -1.062281 -0.659174\n",
      "2019-01-29 -0.012436 -0.358230 -1.020661  0.636989  2.751237  0.976706\n",
      "2019-01-30 -1.095439 -0.542345 -0.402949 -0.890442  0.637840  2.465190\n",
      "2019-01-31 -0.012507  3.631758 -1.517958  1.356138  0.589636  0.478607\n"
     ]
    }
   ],
   "source": [
    "daily_df_source = SimulatedDataFrame(dict(freq='B'))\n",
    "input_df = daily_df_source(entities=dict(Type=['A','B','C'], ID=[1,2]), period=(datetime(2019,1,12), datetime(2019,1,31)))\n",
    "print(input_df)"
   ]
  },
  {
   "cell_type": "code",
   "execution_count": 3,
   "metadata": {},
   "outputs": [
    {
     "name": "stderr",
     "output_type": "stream",
     "text": [
      "INFO:root:INIT XLS_g_DoDf {'fpath': ('C:\\\\Users\\\\raman\\\\OneDrive\\\\Zeroth\\\\Workspace', 'test.xlsx'), 'format': 'xlsx', 'if_sheet_exists': None}\n"
     ]
    }
   ],
   "source": [
    "_ = XLS_g_DoDf(dict(fpath=(workspace, 'test.xlsx')))(dict(a=input_df))"
   ]
  }
 ],
 "metadata": {
  "kernelspec": {
   "display_name": "base",
   "language": "python",
   "name": "python3"
  },
  "language_info": {
   "codemirror_mode": {
    "name": "ipython",
    "version": 3
   },
   "file_extension": ".py",
   "mimetype": "text/x-python",
   "name": "python",
   "nbconvert_exporter": "python",
   "pygments_lexer": "ipython3",
   "version": "3.10.9"
  },
  "orig_nbformat": 4
 },
 "nbformat": 4,
 "nbformat_minor": 2
}
